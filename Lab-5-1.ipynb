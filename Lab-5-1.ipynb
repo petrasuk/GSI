{
 "cells": [
  {
   "cell_type": "markdown",
   "metadata": {},
   "source": [
    "# Lab-5-1 : RNN Practice-1"
   ]
  },
  {
   "cell_type": "code",
   "execution_count": 1,
   "metadata": {
    "collapsed": true
   },
   "outputs": [],
   "source": [
    "# 4개의 글자를 가진 단어를 학습시켜, 3글자만 주어지면 나머지 한 글자를 추천하여 단어를 완성하는 프로그램입니다.\n",
    "import tensorflow as tf\n",
    "import numpy as np\n",
    "\n",
    "\n",
    "char_arr = ['a', 'b', 'c', 'd', 'e', 'f', 'g',\n",
    "            'h', 'i', 'j', 'k', 'l', 'm', 'n',\n",
    "            'o', 'p', 'q', 'r', 's', 't', 'u',\n",
    "            'v', 'w', 'x', 'y', 'z']\n",
    "\n",
    "# making a encoding and decoding array\n",
    "# {'a': 0, 'b': 1, 'c': 2, ..., 'j': 9, 'k', 10, ...}\n",
    "num_dic = {n: i for i, n in enumerate(char_arr)}\n",
    "dic_len = len(num_dic)\n",
    "\n",
    "# training data \n",
    "# wor -> X, d -> Y\n",
    "# woo -> X, d -> Y\n",
    "seq_data = ['word', 'wood', 'deep', 'dive', 'cold', 'cool', 'load', 'love', 'kiss', 'kind']"
   ]
  },
  {
   "cell_type": "code",
   "execution_count": 7,
   "metadata": {
    "collapsed": false
   },
   "outputs": [
    {
     "name": "stdout",
     "output_type": "stream",
     "text": [
      "{'i': 8, 'b': 1, 't': 19, 'g': 6, 'c': 2, 'h': 7, 'v': 21, 'o': 14, 'r': 17, 's': 18, 'q': 16, 'y': 24, 'f': 5, 'k': 10, 'l': 11, 'u': 20, 'm': 12, 'e': 4, 'a': 0, 'x': 23, 'w': 22, 'd': 3, 'p': 15, 'n': 13, 'j': 9, 'z': 25}\n"
     ]
    }
   ],
   "source": [
    "print(num_dic)"
   ]
  },
  {
   "cell_type": "code",
   "execution_count": 8,
   "metadata": {
    "collapsed": true
   },
   "outputs": [],
   "source": [
    "def make_batch(seq_data):\n",
    "    input_batch = []\n",
    "    target_batch = []\n",
    "\n",
    "    for seq in seq_data:\n",
    "        \n",
    "        # making the input and target batch\n",
    "        # wor -->  [22, 14, 17]   woo --> [22, 14, 14]   dee --->  [3, 4, 4]   div ---> [3, 8, 21] ...\n",
    "        input = [num_dic[n] for n in seq[:-1]]\n",
    "        \n",
    "        # d --> 3, d --> 3, p ---> 15,  e---> 4, d ---> 3 ...\n",
    "        target = num_dic[seq[-1]]\n",
    "        \n",
    "        \n",
    "        # make a one-hot encoding\n",
    "        # if input is [0, 1, 2]:\n",
    "        # [[ 1.  0.  0.  0.  0.  0.  0.  0.  0.  0.]\n",
    "        #  [ 0.  1.  0.  0.  0.  0.  0.  0.  0.  0.]\n",
    "        #  [ 0.  0.  1.  0.  0.  0.  0.  0.  0.  0.]]\n",
    "        input_batch.append(np.eye(dic_len)[input])\n",
    "        \n",
    "        \n",
    "        # 지금까지 손실함수로 사용하던 softmax_cross_entropy_with_logits 함수는\n",
    "        # label 값을 one-hot 인코딩으로 넘겨줘야 하지만,\n",
    "        # 이 예제에서 사용할 손실 함수인 sparse_softmax_cross_entropy_with_logits 는\n",
    "        # one-hot 인코딩을 사용하지 않으므로 index 를 그냥 넘겨주면 됩니다.\n",
    "        target_batch.append(target)\n",
    "\n",
    "    return input_batch, target_batch"
   ]
  },
  {
   "cell_type": "code",
   "execution_count": 9,
   "metadata": {
    "collapsed": true
   },
   "outputs": [],
   "source": [
    "#########\n",
    "# Setting the Option\n",
    "######\n",
    "learning_rate = 0.01\n",
    "n_hidden = 128\n",
    "total_epoch = 30\n",
    "\n",
    "# Number sequence in RNN=> 3\n",
    "n_step = 3\n",
    "\n",
    "# size of input : 26 (because it is the one-encoding of the alphabets\n",
    "# ex) c => [0 0 1 0 0 0 0 0 0 0 0 ... 0]\n",
    "# The output is also of size 26\n",
    "n_input = n_class = dic_len"
   ]
  },
  {
   "cell_type": "code",
   "execution_count": 3,
   "metadata": {
    "collapsed": false
   },
   "outputs": [],
   "source": [
    "#########\n",
    "# Make the Network \n",
    "######\n",
    "X = tf.placeholder(tf.float32, [None, n_step, n_input])\n",
    "# Because we use the sparse_softmax_cross_entropy_with_logits method\n",
    "# the input for Y is not of one-hot vector form \n",
    "# but just a one-dimensional vector\n",
    "# [3] [3] [15] [4] ...\n",
    "Y = tf.placeholder(tf.int32, [None])\n",
    "\n",
    "W = tf.Variable(tf.random_normal([n_hidden, n_class]))\n",
    "b = tf.Variable(tf.random_normal([n_class]))\n",
    "\n",
    "# Make the RNN cell.\n",
    "cell1 = tf.nn.rnn_cell.BasicLSTMCell(n_hidden)\n",
    "\n",
    "# Use Dropout to prevent overfitting\n",
    "cell1 = tf.nn.rnn_cell.DropoutWrapper(cell1, output_keep_prob=0.5)\n",
    "\n",
    "# Make another cell\n",
    "cell2 = tf.nn.rnn_cell.BasicLSTMCell(n_hidden)\n",
    "\n",
    "# Make an RNN cell with cell1 and cell2\n",
    "multi_cell = tf.nn.rnn_cell.MultiRNNCell([cell1, cell2])\n",
    "\n",
    "# Make an RNN using tf.nn.dynamic_rnn function.\n",
    "# time_major=True\n",
    "outputs, states = tf.nn.dynamic_rnn(multi_cell, X, dtype=tf.float32)\n",
    "\n",
    "# change the first and second dimension of outputs  ([n_step, batch_size, n_hidden]->[batch_size, n_step, n_hidden])\n",
    "outputs = tf.transpose(outputs, [1, 0, 2])\n",
    "\n",
    "# take only the hidden state of the last step [batch_size, n_step, n_hidden] --> [batch_size, n_step] (for the last step)\n",
    "outputs = outputs[-1]\n",
    "model = tf.matmul(outputs, W) + b"
   ]
  },
  {
   "cell_type": "code",
   "execution_count": null,
   "metadata": {
    "collapsed": true
   },
   "outputs": [],
   "source": [
    "cost = tf.reduce_mean(\n",
    "            tf.nn.sparse_softmax_cross_entropy_with_logits(\n",
    "                logits=model, labels=Y))\n",
    "\n",
    "optimizer = tf.train.AdamOptimizer(learning_rate).minimize(cost)\n",
    "\n",
    "#########\n",
    "# Training the network\n",
    "######\n",
    "sess = tf.Session()\n",
    "sess.run(tf.global_variables_initializer())\n",
    "\n",
    "input_batch, target_batch = make_batch(seq_data)\n",
    "\n",
    "for epoch in range(total_epoch):\n",
    "    _, loss = sess.run([optimizer, cost],\n",
    "                       feed_dict={X: input_batch, Y: target_batch})\n",
    "\n",
    "    print('Epoch:', '%04d' % (epoch + 1),\n",
    "          'cost =', '{:.6f}'.format(loss))\n",
    "\n",
    "print('Optimization finish!')"
   ]
  },
  {
   "cell_type": "code",
   "execution_count": null,
   "metadata": {
    "collapsed": true
   },
   "outputs": [],
   "source": [
    "#########\n",
    "# Result \n",
    "######\n",
    "# Label is integer, so the predicted value is also casted as integer\n",
    "prediction = tf.cast(tf.argmax(model, 1), tf.int32)\n",
    "\n",
    "# Compare the input.\n",
    "prediction_check = tf.equal(prediction, Y)\n",
    "accuracy = tf.reduce_mean(tf.cast(prediction_check, tf.float32))\n",
    "\n",
    "input_batch, target_batch = make_batch(seq_data)\n",
    "\n",
    "predict, accuracy_val = sess.run([prediction, accuracy],\n",
    "                                 feed_dict={X: input_batch, Y: target_batch})\n",
    "\n",
    "predict_words = []\n",
    "for idx, val in enumerate(seq_data):\n",
    "    last_char = char_arr[predict[idx]]\n",
    "    predict_words.append(val[:3] + last_char)\n",
    "\n",
    "print('\\n=== Predict Result ===')\n",
    "print('input:', [w[:3] + ' ' for w in seq_data])\n",
    "print('predicted:', predict_words)\n",
    "print('accuracy:', accuracy_val)"
   ]
  },
  {
   "cell_type": "code",
   "execution_count": null,
   "metadata": {
    "collapsed": true
   },
   "outputs": [],
   "source": []
  }
 ],
 "metadata": {
  "kernelspec": {
   "display_name": "Python [default]",
   "language": "python",
   "name": "python3"
  },
  "language_info": {
   "codemirror_mode": {
    "name": "ipython",
    "version": 3
   },
   "file_extension": ".py",
   "mimetype": "text/x-python",
   "name": "python",
   "nbconvert_exporter": "python",
   "pygments_lexer": "ipython3",
   "version": "3.5.2"
  }
 },
 "nbformat": 4,
 "nbformat_minor": 1
}
